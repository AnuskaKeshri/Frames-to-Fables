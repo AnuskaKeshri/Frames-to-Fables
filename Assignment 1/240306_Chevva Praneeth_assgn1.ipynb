{
  "nbformat": 4,
  "nbformat_minor": 0,
  "metadata": {
    "colab": {
      "provenance": []
    },
    "kernelspec": {
      "name": "python3",
      "display_name": "Python 3"
    },
    "language_info": {
      "name": "python"
    }
  },
  "cells": [
    {
      "cell_type": "markdown",
      "source": [
        "Instructions for the assignment\n",
        "\n",
        "\n",
        "*   Fill the codeblocks according to the comments given\n",
        "*   Hints are given wherever required\n",
        "*   Please note that copying will not be tolerated, and appropriate action will be taken if we suspect any misconduct.\n",
        "*   You're welcome to utilize any online resources in case you feel stuck anywhere\n",
        "\n",
        "\n",
        "\n",
        "\n",
        "\n",
        "\n",
        "\n"
      ],
      "metadata": {
        "id": "kIAcUXNYVeGR"
      }
    },
    {
      "cell_type": "markdown",
      "source": [
        "# Section A *(2 Marks each)*"
      ],
      "metadata": {
        "id": "UhXvUdK6Stt_"
      }
    },
    {
      "cell_type": "markdown",
      "source": [
        "## NumPy (Numerical Python)\n",
        "\n",
        "### Multidimensional array object\n",
        "- Array is a grid of homogeneous elements which can be indexed in various ways\n",
        "- Different from Python list which can store different data types\n",
        "- NumPy stores multidimensional arrays as an instance of **ndarray**\n",
        "\n"
      ],
      "metadata": {
        "id": "oc77CrhjAGlR"
      }
    },
    {
      "cell_type": "code",
      "source": [
        "import numpy as np"
      ],
      "metadata": {
        "id": "WGtRigfyBpgb"
      },
      "execution_count": null,
      "outputs": []
    },
    {
      "cell_type": "code",
      "execution_count": null,
      "metadata": {
        "id": "UR9ftRnU8_lu",
        "colab": {
          "base_uri": "https://localhost:8080/"
        },
        "outputId": "01ad3e1b-f545-464d-e47e-85a851d61815"
      },
      "outputs": [
        {
          "output_type": "stream",
          "name": "stdout",
          "text": [
            "[1 2 3 4 5]\n",
            "[[1 2 3]\n",
            " [4 5 6]\n",
            " [7 8 9]]\n"
          ]
        }
      ],
      "source": [
        "# Python list to initialize a one dimensional NumPy array of numbers 1 to 5 and then print it\n",
        "import numpy as np\n",
        "a = np.array([1, 2, 3, 4, 5])\n",
        "print(a)\n",
        "\n",
        "# Python list to initialize a two dimensional NumPy array of shape [3,3] and then print it\n",
        "b = np.array([[1, 2, 3], [4, 5, 6], [7, 8, 9]])\n",
        "print(b)"
      ]
    },
    {
      "cell_type": "code",
      "source": [
        "# Write a NumPy function to create an array with random values of shape [3,4]\n",
        "import numpy as np\n",
        "c = np.random.rand(3, 4)\n",
        "print(c)\n",
        "\n",
        "# Write a NumPy function to create an array with all elements initialized as zero of shape [3,4]\n",
        "d = np.zeros((3, 4))\n",
        "print(d)\n",
        "\n",
        "# Write a NumPy function to create an array with all elements initialized as ones of shape [3,4]\n",
        "e = np.ones((3, 4))\n",
        "print(e)"
      ],
      "metadata": {
        "id": "WZf-M7KnBkhu",
        "colab": {
          "base_uri": "https://localhost:8080/"
        },
        "outputId": "1fe01b7e-9f93-48a7-e376-025b2750ab4d"
      },
      "execution_count": null,
      "outputs": [
        {
          "output_type": "stream",
          "name": "stdout",
          "text": [
            "[[0.12818556 0.66711197 0.26679378 0.87641088]\n",
            " [0.58483888 0.5286467  0.47089443 0.37302385]\n",
            " [0.37081727 0.01576059 0.77425926 0.18523188]]\n"
          ]
        }
      ]
    },
    {
      "cell_type": "code",
      "source": [
        "# Write a NumPy function to create an array containing a range of evenly spaced intervals\n",
        "# Hint : Use np.arange or np.linspace\n",
        "import numpy as np\n",
        "def create_array(start, end, steps):\n",
        "    return np.linspace(start, end, steps)\n",
        "print(create_array(0, 10, 6))"
      ],
      "metadata": {
        "id": "Uagv5WtWBknb",
        "colab": {
          "base_uri": "https://localhost:8080/"
        },
        "outputId": "b65679ea-cd25-4a01-a07a-f0c97e903c5a"
      },
      "execution_count": null,
      "outputs": [
        {
          "output_type": "stream",
          "name": "stdout",
          "text": [
            "[ 0.  2.  4.  6.  8. 10.]\n"
          ]
        }
      ]
    },
    {
      "cell_type": "markdown",
      "source": [
        "### Basic array operations\n",
        "- algebraic operations\n",
        "- logical operations"
      ],
      "metadata": {
        "id": "dFeKiGA5CNXx"
      }
    },
    {
      "cell_type": "code",
      "source": [
        "a = np.array([[-4,6,8], [9, 3, 1], [1, 8, 5]])\n",
        "b = np.array([[11,16,18], [90, 37, 81], [61, 48, 75]])"
      ],
      "metadata": {
        "id": "mZbgCNnRDVbV"
      },
      "execution_count": null,
      "outputs": []
    },
    {
      "cell_type": "code",
      "source": [
        "# Write a NumPy function to add, subtract, multiply and divide arrays 'a' and 'b'\n",
        "import numpy as np\n",
        "a = np.array([[-4,6,8], [9, 3, 1], [1, 8, 5]])\n",
        "b = np.array([[11,16,18], [90, 37, 81], [61, 48, 75]])\n",
        "def add(a, b):\n",
        "    return a + b\n",
        "def subtract(a, b):\n",
        "    return a - b\n",
        "def multiply(a, b):\n",
        "    return a * b\n",
        "def divide(a, b):\n",
        "    return a / b"
      ],
      "metadata": {
        "id": "QajfAkNHCMqe"
      },
      "execution_count": null,
      "outputs": []
    },
    {
      "cell_type": "code",
      "source": [
        "a = np.array([[-4,6,8], [9, 3, 1], [1, 8, 5]])\n",
        "b = np.array([[11,16,18], [90, 37, 81], [61, 48, 75]])"
      ],
      "metadata": {
        "id": "bghuq1UB6qnj"
      },
      "execution_count": null,
      "outputs": []
    },
    {
      "cell_type": "code",
      "source": [
        "# Write a NumPy function to get the sum of the array 'a' along axis=0\n",
        "a = np.array([[-4,6,8], [9, 3, 1], [1, 8, 5]])\n",
        "b = np.array([[11,16,18], [90, 37, 81], [61, 48, 75]])\n",
        "import numpy as np\n",
        "def sum_along_axis(a, axis):\n",
        "    return np.sum(a, axis=axis)\n",
        "print(sum_along_axis(a, 0))\n",
        "\n",
        "# Write a NumPy function to get the sum of the array 'a' along axis=1\n",
        "print(sum_along_axis(a, 1))"
      ],
      "metadata": {
        "id": "hfBR7r80C_qh",
        "colab": {
          "base_uri": "https://localhost:8080/"
        },
        "outputId": "e29fde1f-3f9a-4749-a584-5d27fbca4458"
      },
      "execution_count": null,
      "outputs": [
        {
          "output_type": "stream",
          "name": "stdout",
          "text": [
            "[ 6 17 14]\n"
          ]
        }
      ]
    },
    {
      "cell_type": "code",
      "source": [
        "# Write a NumPy function to reverse the array 'a'\n",
        "import numpy as np\n",
        "a = np.array([[-4,6,8], [9, 3, 1], [1, 8, 5]])\n",
        "b = np.array([[11,16,18], [90, 37, 81], [61, 48, 75]])\n",
        "def reverse_array(a):\n",
        "    return np.flip(a)\n",
        "print(reverse_array(a))\n",
        "\n",
        "# Write a NumPy function to reverse the array 'a' along axis=0\n",
        "print(reverse_array(np.flip(a, axis=0)))\n",
        "\n",
        "# Write a NumPy function to reverse the array 'a' along axis=1\n",
        "print(reverse_array(np.flip(a,axis=1)))"
      ],
      "metadata": {
        "id": "rBTxfTuFDSiA",
        "colab": {
          "base_uri": "https://localhost:8080/"
        },
        "outputId": "32eec815-fb90-46fe-dfb9-69e78fa1355c"
      },
      "execution_count": null,
      "outputs": [
        {
          "output_type": "stream",
          "name": "stdout",
          "text": [
            "[[ 5  8  1]\n",
            " [ 1  3  9]\n",
            " [ 8  6 -4]]\n",
            "[[ 8  6 -4]\n",
            " [ 1  3  9]\n",
            " [ 5  8  1]]\n",
            "[[ 1  8  5]\n",
            " [ 9  3  1]\n",
            " [-4  6  8]]\n"
          ]
        }
      ]
    },
    {
      "cell_type": "markdown",
      "source": [
        "### Sorting and concatenation\n",
        "- sort arrays\n",
        "- join multiple arrays\n"
      ],
      "metadata": {
        "id": "WnCvXc3jCdWH"
      }
    },
    {
      "cell_type": "code",
      "source": [
        "a = np.array([[-4,6,8], [9, 3, 1], [1, 8, 5]])\n",
        "b = np.array([[11,16,18], [90, 37, 81], [61, 48, 75]])"
      ],
      "metadata": {
        "id": "Qsg-EPq7EbPx"
      },
      "execution_count": null,
      "outputs": []
    },
    {
      "cell_type": "code",
      "source": [
        "# Write a NumPy function to sort the array 'a'\n",
        "import numpy as np\n",
        "a = np.array([[-4,6,8], [9, 3, 1], [1, 8, 5]])\n",
        "b = np.array([[11,16,18], [90, 37, 81], [61, 48, 75]])\n",
        "def sort_array(a):\n",
        "    return np.sort(a)\n",
        "print(sort_array(a))\n",
        "\n",
        "# Write a NumPy function to sort the array 'a' along axis=0\n",
        "print(sort_array(np.sort(a, axis=0)))\n",
        "\n",
        "# Write a NumPy function to sort the array 'a' along axis=1\n",
        "print(sort_array(np.sort(a, axis=1)))\n",
        "\n",
        "# Write a NumPy function to sort the array 'a' in descending order along axis=0\n",
        "print(sort_array(np.sort(a, axis=0))[::-1])\n"
      ],
      "metadata": {
        "id": "_7VfP1anCc0O",
        "colab": {
          "base_uri": "https://localhost:8080/"
        },
        "outputId": "b7ae834a-8a89-497e-dd1b-05d7bdb9f9c5"
      },
      "execution_count": null,
      "outputs": [
        {
          "output_type": "stream",
          "name": "stdout",
          "text": [
            "[[-4  6  8]\n",
            " [ 1  3  9]\n",
            " [ 1  5  8]]\n",
            "[[-4  1  3]\n",
            " [ 1  5  6]\n",
            " [ 8  8  9]]\n",
            "[[-4  6  8]\n",
            " [ 1  3  9]\n",
            " [ 1  5  8]]\n",
            "[[ 8  8  9]\n",
            " [ 1  5  6]\n",
            " [-4  1  3]]\n"
          ]
        }
      ]
    },
    {
      "cell_type": "code",
      "source": [
        "# Write a NumPy function to argsort the array along axis=0\n",
        "import numpy as np\n",
        "a = np.array([[-4,6,8], [9, 3, 1], [1, 8, 5]])\n",
        "b = np.array([[11,16,18], [90, 37, 81], [61, 48, 75]])\n",
        "def argsort_array(a):\n",
        "    return np.argsort(a)\n",
        "print(argsort_array(np.argsort(a,axis=0)))\n",
        "\n",
        "# Write a NumPy function to argsort the array along axis=1\n",
        "print(argsort_array(np.argsort(a,axis=1)))\n"
      ],
      "metadata": {
        "id": "6BqbtdLYEWng",
        "colab": {
          "base_uri": "https://localhost:8080/"
        },
        "outputId": "e3332feb-753e-4fd6-f2c3-d899331b7963"
      },
      "execution_count": null,
      "outputs": [
        {
          "output_type": "stream",
          "name": "stdout",
          "text": [
            "[[0 1 2]\n",
            " [1 0 2]\n",
            " [2 0 1]]\n"
          ]
        }
      ]
    },
    {
      "cell_type": "code",
      "source": [
        "# Write a NumPy function to concatenate the arrays 'a' and 'b'\n",
        "import numpy as np\n",
        "a = np.array([[-4,6,8], [9, 3, 1], [1, 8, 5]])\n",
        "b = np.array([[11,16,18], [90, 37, 81], [61, 48, 75]])\n",
        "def concatenate_arrays(a, b):\n",
        "    return np.concatenate((a, b), axis=0)\n",
        "print(concatenate_arrays(a, b))\n",
        "\n",
        "# Write a NumPy function to concatenate the arrays 'a' and 'b' along axis = 0\n",
        "print(np.concatenate((a, b), axis=1))\n",
        "\n",
        "# Note: You can do the same function using stacking, discover and try that :)\n"
      ],
      "metadata": {
        "id": "cixOoXZhEY8-",
        "colab": {
          "base_uri": "https://localhost:8080/"
        },
        "outputId": "1f2d3c35-ed85-47b2-b57d-1dd5c8ec64d6"
      },
      "execution_count": null,
      "outputs": [
        {
          "output_type": "stream",
          "name": "stdout",
          "text": [
            "[[-4  6  8]\n",
            " [ 9  3  1]\n",
            " [ 1  8  5]\n",
            " [11 16 18]\n",
            " [90 37 81]\n",
            " [61 48 75]]\n",
            "[[-4  6  8 11 16 18]\n",
            " [ 9  3  1 90 37 81]\n",
            " [ 1  8  5 61 48 75]]\n"
          ]
        }
      ]
    },
    {
      "cell_type": "markdown",
      "source": [
        "### Reshaping arrays\n",
        "- the number of dimensions of the array\n",
        "-  shape of n-dimensional array as a tuple with n elements s.t. $i^{th}$ element is the length of the $i^{th}$ dimension of the array\n",
        "- total number of elements of the array\n",
        "- reshapes the array\n",
        "- flattens multidimensional array into a 1D array\n",
        "- adds new dimensions to the array"
      ],
      "metadata": {
        "id": "aY0j33z2EjNx"
      }
    },
    {
      "cell_type": "code",
      "source": [
        "a = np.array([[4,6,8], [9, 3, 1], [1, 8, 5]])"
      ],
      "metadata": {
        "id": "sStUkoh1FG4N"
      },
      "execution_count": null,
      "outputs": []
    },
    {
      "cell_type": "code",
      "source": [
        "# Write a NumPy function to get the Number of dimensions\n",
        "import numpy as np\n",
        "a = np.array([[4,6,8], [9, 3, 1], [1, 8, 5]])\n",
        "def get_dimensions(a):\n",
        "    return a.ndim\n",
        "print(get_dimensions(a))\n",
        "\n",
        "# Write a NumPy function to get the Shape of the array\n",
        "def get_shape(a):\n",
        "    return a.shape\n",
        "print(get_shape(a))\n",
        "\n",
        "# Write a NumPy function to get the Size of the array\n",
        "def get_size(a):\n",
        "    return a.size\n",
        "print(get_size(a))\n"
      ],
      "metadata": {
        "id": "vb35oi57Ev1f",
        "colab": {
          "base_uri": "https://localhost:8080/"
        },
        "outputId": "eb93e031-4bf8-41af-8ae1-0d754c1e8d0a"
      },
      "execution_count": null,
      "outputs": [
        {
          "output_type": "stream",
          "name": "stdout",
          "text": [
            "2\n"
          ]
        }
      ]
    },
    {
      "cell_type": "code",
      "source": [
        "# Write a NumPy function to Reshape the array 'a' to the dimension (1,9)\n",
        "import numpy as np\n",
        "a = np.array([[4,6,8], [9, 3, 1], [1, 8, 5]])\n",
        "def reshape_array(a):\n",
        "    return a.reshape(1,9)\n",
        "print(reshape_array(a))"
      ],
      "metadata": {
        "id": "MznU0NWKE54c",
        "colab": {
          "base_uri": "https://localhost:8080/"
        },
        "outputId": "8379fb13-2ca9-40a0-90a3-f5ef183d7de1"
      },
      "execution_count": null,
      "outputs": [
        {
          "output_type": "stream",
          "name": "stdout",
          "text": [
            "[[4 6 8 9 3 1 1 8 5]]\n"
          ]
        }
      ]
    },
    {
      "cell_type": "code",
      "source": [
        "# Write a NumPy function to add a new axis to the array 'a'\n",
        "# Note : Show atleast two different ways of doing this\n",
        "import numpy as np\n",
        "a = np.array([[4,6,8], [9, 3, 1], [1, 8, 5]])\n",
        "def add_new_axis(a):\n",
        "    return np.expand_dims(a, axis=0)\n",
        "print(add_new_axis(a))\n"
      ],
      "metadata": {
        "id": "p1dlxcNYE8tv",
        "colab": {
          "base_uri": "https://localhost:8080/"
        },
        "outputId": "f696e35c-67fd-40a0-fea9-619ff8e9fde6"
      },
      "execution_count": null,
      "outputs": [
        {
          "output_type": "stream",
          "name": "stdout",
          "text": [
            "[[[4 6 8]\n",
            "  [9 3 1]\n",
            "  [1 8 5]]]\n"
          ]
        }
      ]
    },
    {
      "cell_type": "markdown",
      "source": [
        "### Indexing and slicing\n",
        "- NumPy allows indexing array using tuple of nonnegative integers, booleans, array or integers"
      ],
      "metadata": {
        "id": "Ng4xWkwpFtao"
      }
    },
    {
      "cell_type": "code",
      "source": [
        "a = np.array([[4,6,0], [0, 3, 1], [1, 8, 5]])"
      ],
      "metadata": {
        "id": "swrtOhPGGB7r"
      },
      "execution_count": null,
      "outputs": []
    },
    {
      "cell_type": "code",
      "source": [
        "# Write a NumPy function to index and slice NumPy arrays similar to Python lists\n",
        "# Show all three - indexing by a integer, indexing by a tuple, using range\n",
        "import numpy as np\n",
        "a = np.array([[4,6,0], [0, 3, 1], [1, 8, 5]])\n",
        "def index_array(a):\n",
        "    return a[1,2]\n",
        "print(index_array(a))\n",
        "a=([4,6,0], [0, 3, 1], [1, 8, 5])\n",
        "print(tuple(a[1]))\n",
        "print(a[1:3])\n",
        "\n"
      ],
      "metadata": {
        "id": "w3QaVYRyFs77",
        "colab": {
          "base_uri": "https://localhost:8080/"
        },
        "outputId": "aa3954d7-3673-4794-d302-6c0b5880b8b8"
      },
      "execution_count": 46,
      "outputs": [
        {
          "output_type": "stream",
          "name": "stdout",
          "text": [
            "1\n",
            "(0, 3, 1)\n",
            "([0, 3, 1], [1, 8, 5])\n"
          ]
        }
      ]
    },
    {
      "cell_type": "code",
      "source": [
        "# Write a NumPy function to select values satisfying a specific condition like Values greater than 4\n",
        "import numpy as np\n",
        "a = np.array([[4,6,0], [0, 3, 1], [1, 8, 5]])\n",
        "def select_values(a):\n",
        "    return a[a>4]\n",
        "print(select_values(a))\n",
        "\n",
        "# Write a NumPy function to select values satisfying mulitple conditions like Values greater than 4 and divisible by 2\n",
        "print(select_values(a[(a>4) & (a%2==0)]))\n"
      ],
      "metadata": {
        "id": "Xn2_z5h-Fmrd",
        "colab": {
          "base_uri": "https://localhost:8080/"
        },
        "outputId": "2a379ca8-96c3-408f-95c1-e2d96aee9591"
      },
      "execution_count": 48,
      "outputs": [
        {
          "output_type": "stream",
          "name": "stdout",
          "text": [
            "[6 8 5]\n",
            "[6 8]\n"
          ]
        }
      ]
    },
    {
      "cell_type": "markdown",
      "source": [
        "### Copying arrays\n",
        "- new array object with a copy of the data\n",
        "- Changes made in the copy array is not reflected in the original array"
      ],
      "metadata": {
        "id": "GWU0EfaAG2ll"
      }
    },
    {
      "cell_type": "code",
      "source": [
        "a = np.array([[4,6,0], [0, 3, 1], [1, 8, 5]])"
      ],
      "metadata": {
        "id": "ijdgy02lHMJW"
      },
      "execution_count": 49,
      "outputs": []
    },
    {
      "cell_type": "code",
      "source": [
        "# Write a NumPy function to copy the array 'a' and finally print an array where all elements are increased by 1\n",
        "import numpy as np\n",
        "a = np.array([[4,6,0], [0, 3, 1], [1, 8, 5]])\n",
        "def inc1(a) :\n",
        "  b=a.copy()\n",
        "  return b+np.ones((3,3))\n",
        "print(inc1(a))\n",
        "\n",
        ""
      ],
      "metadata": {
        "id": "FmgUdh66GuQH",
        "colab": {
          "base_uri": "https://localhost:8080/"
        },
        "outputId": "c1d38aa5-97ba-4e08-eaf5-27665326c682"
      },
      "execution_count": 60,
      "outputs": [
        {
          "output_type": "stream",
          "name": "stdout",
          "text": [
            "[[5. 7. 1.]\n",
            " [1. 4. 2.]\n",
            " [2. 9. 6.]]\n"
          ]
        }
      ]
    },
    {
      "cell_type": "markdown",
      "source": [
        "## Pandas ( Python Data Analysis Library)\n",
        "\n",
        "### Main Features\n",
        "- Easy handling of missing data in both floating point and non-floating point data.\n",
        "- Automatic and explicit data alignment, making it easy to perform computations and transformations on data sets.\n",
        "\n"
      ],
      "metadata": {
        "id": "M1KLD5QxHsVw"
      }
    },
    {
      "cell_type": "markdown",
      "source": [
        "#### Generating the dataset"
      ],
      "metadata": {
        "id": "v1CuU3FeIq1a"
      }
    },
    {
      "cell_type": "markdown",
      "source": [
        "Run the following load command to get the 2-Dim iris dataset. Do the following operations on it and please dont edit this cell"
      ],
      "metadata": {
        "id": "fp36ZqOMIy7k"
      }
    },
    {
      "cell_type": "code",
      "source": [
        "url = 'https://archive.ics.uci.edu/ml/machine-learning-databases/iris/iris.data'\n",
        "iris_2d = np.genfromtxt(url, delimiter=',', dtype='float', usecols=[0,1,2,3])"
      ],
      "metadata": {
        "id": "A_O5RTBXIyK-"
      },
      "execution_count": null,
      "outputs": []
    },
    {
      "cell_type": "markdown",
      "source": [
        "#### Basic Data Analysis"
      ],
      "metadata": {
        "id": "EILb6pPrS8Ju"
      }
    },
    {
      "cell_type": "code",
      "source": [
        "# Write a Pandas function to drop rows that contain a missing value.\n",
        "import numpy as np\n",
        "url = 'https://archive.ics.uci.edu/ml/machine-learning-databases/iris/iris.data'\n",
        "iris_2d = np.genfromtxt(url, delimiter=',', dtype='float', usecols=[0,1,2,3])\n",
        "def drop_missing_values(iris_2d):\n",
        "    return iris_2d[~np.isnan(iris_2d).any(axis=1)]\n",
        "print(drop_missing_values(iris_2d))"
      ],
      "metadata": {
        "id": "bViO1LLoI7sz",
        "colab": {
          "base_uri": "https://localhost:8080/"
        },
        "collapsed": true,
        "outputId": "c615998a-58c6-4640-d874-d783c431da2a"
      },
      "execution_count": 61,
      "outputs": [
        {
          "output_type": "stream",
          "name": "stdout",
          "text": [
            "[[5.1 3.5 1.4 0.2]\n",
            " [4.9 3.  1.4 0.2]\n",
            " [4.7 3.2 1.3 0.2]\n",
            " [4.6 3.1 1.5 0.2]\n",
            " [5.  3.6 1.4 0.2]\n",
            " [5.4 3.9 1.7 0.4]\n",
            " [4.6 3.4 1.4 0.3]\n",
            " [5.  3.4 1.5 0.2]\n",
            " [4.4 2.9 1.4 0.2]\n",
            " [4.9 3.1 1.5 0.1]\n",
            " [5.4 3.7 1.5 0.2]\n",
            " [4.8 3.4 1.6 0.2]\n",
            " [4.8 3.  1.4 0.1]\n",
            " [4.3 3.  1.1 0.1]\n",
            " [5.8 4.  1.2 0.2]\n",
            " [5.7 4.4 1.5 0.4]\n",
            " [5.4 3.9 1.3 0.4]\n",
            " [5.1 3.5 1.4 0.3]\n",
            " [5.7 3.8 1.7 0.3]\n",
            " [5.1 3.8 1.5 0.3]\n",
            " [5.4 3.4 1.7 0.2]\n",
            " [5.1 3.7 1.5 0.4]\n",
            " [4.6 3.6 1.  0.2]\n",
            " [5.1 3.3 1.7 0.5]\n",
            " [4.8 3.4 1.9 0.2]\n",
            " [5.  3.  1.6 0.2]\n",
            " [5.  3.4 1.6 0.4]\n",
            " [5.2 3.5 1.5 0.2]\n",
            " [5.2 3.4 1.4 0.2]\n",
            " [4.7 3.2 1.6 0.2]\n",
            " [4.8 3.1 1.6 0.2]\n",
            " [5.4 3.4 1.5 0.4]\n",
            " [5.2 4.1 1.5 0.1]\n",
            " [5.5 4.2 1.4 0.2]\n",
            " [4.9 3.1 1.5 0.1]\n",
            " [5.  3.2 1.2 0.2]\n",
            " [5.5 3.5 1.3 0.2]\n",
            " [4.9 3.1 1.5 0.1]\n",
            " [4.4 3.  1.3 0.2]\n",
            " [5.1 3.4 1.5 0.2]\n",
            " [5.  3.5 1.3 0.3]\n",
            " [4.5 2.3 1.3 0.3]\n",
            " [4.4 3.2 1.3 0.2]\n",
            " [5.  3.5 1.6 0.6]\n",
            " [5.1 3.8 1.9 0.4]\n",
            " [4.8 3.  1.4 0.3]\n",
            " [5.1 3.8 1.6 0.2]\n",
            " [4.6 3.2 1.4 0.2]\n",
            " [5.3 3.7 1.5 0.2]\n",
            " [5.  3.3 1.4 0.2]\n",
            " [7.  3.2 4.7 1.4]\n",
            " [6.4 3.2 4.5 1.5]\n",
            " [6.9 3.1 4.9 1.5]\n",
            " [5.5 2.3 4.  1.3]\n",
            " [6.5 2.8 4.6 1.5]\n",
            " [5.7 2.8 4.5 1.3]\n",
            " [6.3 3.3 4.7 1.6]\n",
            " [4.9 2.4 3.3 1. ]\n",
            " [6.6 2.9 4.6 1.3]\n",
            " [5.2 2.7 3.9 1.4]\n",
            " [5.  2.  3.5 1. ]\n",
            " [5.9 3.  4.2 1.5]\n",
            " [6.  2.2 4.  1. ]\n",
            " [6.1 2.9 4.7 1.4]\n",
            " [5.6 2.9 3.6 1.3]\n",
            " [6.7 3.1 4.4 1.4]\n",
            " [5.6 3.  4.5 1.5]\n",
            " [5.8 2.7 4.1 1. ]\n",
            " [6.2 2.2 4.5 1.5]\n",
            " [5.6 2.5 3.9 1.1]\n",
            " [5.9 3.2 4.8 1.8]\n",
            " [6.1 2.8 4.  1.3]\n",
            " [6.3 2.5 4.9 1.5]\n",
            " [6.1 2.8 4.7 1.2]\n",
            " [6.4 2.9 4.3 1.3]\n",
            " [6.6 3.  4.4 1.4]\n",
            " [6.8 2.8 4.8 1.4]\n",
            " [6.7 3.  5.  1.7]\n",
            " [6.  2.9 4.5 1.5]\n",
            " [5.7 2.6 3.5 1. ]\n",
            " [5.5 2.4 3.8 1.1]\n",
            " [5.5 2.4 3.7 1. ]\n",
            " [5.8 2.7 3.9 1.2]\n",
            " [6.  2.7 5.1 1.6]\n",
            " [5.4 3.  4.5 1.5]\n",
            " [6.  3.4 4.5 1.6]\n",
            " [6.7 3.1 4.7 1.5]\n",
            " [6.3 2.3 4.4 1.3]\n",
            " [5.6 3.  4.1 1.3]\n",
            " [5.5 2.5 4.  1.3]\n",
            " [5.5 2.6 4.4 1.2]\n",
            " [6.1 3.  4.6 1.4]\n",
            " [5.8 2.6 4.  1.2]\n",
            " [5.  2.3 3.3 1. ]\n",
            " [5.6 2.7 4.2 1.3]\n",
            " [5.7 3.  4.2 1.2]\n",
            " [5.7 2.9 4.2 1.3]\n",
            " [6.2 2.9 4.3 1.3]\n",
            " [5.1 2.5 3.  1.1]\n",
            " [5.7 2.8 4.1 1.3]\n",
            " [6.3 3.3 6.  2.5]\n",
            " [5.8 2.7 5.1 1.9]\n",
            " [7.1 3.  5.9 2.1]\n",
            " [6.3 2.9 5.6 1.8]\n",
            " [6.5 3.  5.8 2.2]\n",
            " [7.6 3.  6.6 2.1]\n",
            " [4.9 2.5 4.5 1.7]\n",
            " [7.3 2.9 6.3 1.8]\n",
            " [6.7 2.5 5.8 1.8]\n",
            " [7.2 3.6 6.1 2.5]\n",
            " [6.5 3.2 5.1 2. ]\n",
            " [6.4 2.7 5.3 1.9]\n",
            " [6.8 3.  5.5 2.1]\n",
            " [5.7 2.5 5.  2. ]\n",
            " [5.8 2.8 5.1 2.4]\n",
            " [6.4 3.2 5.3 2.3]\n",
            " [6.5 3.  5.5 1.8]\n",
            " [7.7 3.8 6.7 2.2]\n",
            " [7.7 2.6 6.9 2.3]\n",
            " [6.  2.2 5.  1.5]\n",
            " [6.9 3.2 5.7 2.3]\n",
            " [5.6 2.8 4.9 2. ]\n",
            " [7.7 2.8 6.7 2. ]\n",
            " [6.3 2.7 4.9 1.8]\n",
            " [6.7 3.3 5.7 2.1]\n",
            " [7.2 3.2 6.  1.8]\n",
            " [6.2 2.8 4.8 1.8]\n",
            " [6.1 3.  4.9 1.8]\n",
            " [6.4 2.8 5.6 2.1]\n",
            " [7.2 3.  5.8 1.6]\n",
            " [7.4 2.8 6.1 1.9]\n",
            " [7.9 3.8 6.4 2. ]\n",
            " [6.4 2.8 5.6 2.2]\n",
            " [6.3 2.8 5.1 1.5]\n",
            " [6.1 2.6 5.6 1.4]\n",
            " [7.7 3.  6.1 2.3]\n",
            " [6.3 3.4 5.6 2.4]\n",
            " [6.4 3.1 5.5 1.8]\n",
            " [6.  3.  4.8 1.8]\n",
            " [6.9 3.1 5.4 2.1]\n",
            " [6.7 3.1 5.6 2.4]\n",
            " [6.9 3.1 5.1 2.3]\n",
            " [5.8 2.7 5.1 1.9]\n",
            " [6.8 3.2 5.9 2.3]\n",
            " [6.7 3.3 5.7 2.5]\n",
            " [6.7 3.  5.2 2.3]\n",
            " [6.3 2.5 5.  1.9]\n",
            " [6.5 3.  5.2 2. ]\n",
            " [6.2 3.4 5.4 2.3]\n",
            " [5.9 3.  5.1 1.8]]\n"
          ]
        }
      ]
    },
    {
      "cell_type": "code",
      "source": [
        "# Write a Pandas function to find the correlation between the first two columns.\n",
        "import numpy as np\n",
        "url = 'https://archive.ics.uci.edu/ml/machine-learning-databases/iris/iris.data'\n",
        "iris_2d = np.genfromtxt(url, delimiter=',', dtype='float', usecols=[0,1,2,3])\n",
        "def find_correlation(iris_2d):\n",
        "    return np.corrcoef(iris_2d[:, 0], iris_2d[:, 1])[0, 1]\n",
        "print(find_correlation(iris_2d))"
      ],
      "metadata": {
        "id": "zp_BYv5EJDjJ"
      },
      "execution_count": null,
      "outputs": []
    },
    {
      "cell_type": "code",
      "source": [
        "# Write a Pandas function to find the mean, median and standard deviation of column 3.\n",
        "import numpy as np\n",
        "url = 'https://archive.ics.uci.edu/ml/machine-learning-databases/iris/iris.data'\n",
        "iris_2d = np.genfromtxt(url, delimiter=',', dtype='float', usecols=[0,1,2,3])\n",
        "def find_stats(iris_2d):\n",
        "    return np.mean(iris_2d[:, 2]), np.median(iris_2d[:, 2]), np.std(iris_2d[:, 2])\n",
        "print(find_stats(iris_2d))"
      ],
      "metadata": {
        "id": "0mjeoZCwJDoW",
        "colab": {
          "base_uri": "https://localhost:8080/"
        },
        "outputId": "8733be8b-c8eb-4f9c-ed66-1aa28856e7ff"
      },
      "execution_count": 62,
      "outputs": [
        {
          "output_type": "stream",
          "name": "stdout",
          "text": [
            "(np.float64(3.758666666666666), np.float64(4.35), np.float64(1.7585291834055212))\n"
          ]
        }
      ]
    },
    {
      "cell_type": "code",
      "source": [
        "# Write a Pandas function to create a new column for volume in iris_2d, where volume is (pi x petallength x sepal_length^2)/3\n",
        "# Hints:\n",
        "# 1. Introduce new dimension to match iris_2d's\n",
        "# 2. Add the new column\n",
        "import numpy as np\n",
        "url = 'https://archive.ics.uci.edu/ml/machine-learning-databases/iris/iris.data'\n",
        "iris_2d = np.genfromtxt(url, delimiter=',', dtype='float', usecols=[0,1,2,3])\n"
      ],
      "metadata": {
        "id": "bRiYEhWTJDrM"
      },
      "execution_count": null,
      "outputs": []
    },
    {
      "cell_type": "markdown",
      "source": [
        "# Section B *(2 Marks each)*"
      ],
      "metadata": {
        "id": "dGqrG93ELEQ3"
      }
    },
    {
      "cell_type": "markdown",
      "source": [
        "###NumPy"
      ],
      "metadata": {
        "id": "OLm8jv7tMH6h"
      }
    },
    {
      "cell_type": "markdown",
      "source": [
        "Q1 Let x = np.arange(4, dtype=np.int64). Create an array of ones with the same shape and type as X."
      ],
      "metadata": {
        "id": "zE1n0x7ZLRLU"
      }
    },
    {
      "cell_type": "code",
      "source": [
        "import numpy as np\n",
        "x = np.arange(4, dtype=np.int64)\n",
        "print(np.ones_like(x))"
      ],
      "metadata": {
        "id": "H8o9C6b7LJzA",
        "colab": {
          "base_uri": "https://localhost:8080/"
        },
        "outputId": "49d1e4f1-4b7a-4e60-db5f-01a3483ef8e4"
      },
      "execution_count": 68,
      "outputs": [
        {
          "output_type": "stream",
          "name": "stdout",
          "text": [
            "[1 1 1 1]\n"
          ]
        }
      ]
    },
    {
      "cell_type": "markdown",
      "source": [
        "Q2 Let x be an array [1, 2, 3, ..., 9]. Split x into 3 arrays, each of which has 4, 2, and 3 elements in the original order."
      ],
      "metadata": {
        "id": "PPYeTqoHLSNj"
      }
    },
    {
      "cell_type": "code",
      "source": [
        "import numpy as np\n",
        "x = np.arange(1, 10)\n",
        "print(np.split(x, [4, 6]))"
      ],
      "metadata": {
        "id": "DS9mr30LLYdg",
        "colab": {
          "base_uri": "https://localhost:8080/"
        },
        "outputId": "da972339-5f1a-4785-f43c-3c7c42901a4d"
      },
      "execution_count": 63,
      "outputs": [
        {
          "output_type": "stream",
          "name": "stdout",
          "text": [
            "[array([1, 2, 3, 4]), array([5, 6]), array([7, 8, 9])]\n"
          ]
        }
      ]
    },
    {
      "cell_type": "markdown",
      "source": [
        "Q3 Initiate x as a 2x5 array with random values from 0 to 10(not inclusive).Get the maximum and minimum values and their indices of x along the second axis."
      ],
      "metadata": {
        "id": "b1wJaooRLXjN"
      }
    },
    {
      "cell_type": "code",
      "source": [
        "import numpy as np\n",
        "x = np.random.randint(0, 10, (2, 5))\n",
        "max_values = np.max(x, axis=1)\n",
        "min_values = np.min(x, axis=1)\n",
        "max_indices = np.argmax(x, axis=1)\n",
        "min_indices = np.argmin(x, axis=1)"
      ],
      "metadata": {
        "id": "GnXDqksjLf89"
      },
      "execution_count": 69,
      "outputs": []
    },
    {
      "cell_type": "markdown",
      "source": [
        "### Pandas"
      ],
      "metadata": {
        "id": "8_Q7fbyxMMHM"
      }
    },
    {
      "cell_type": "markdown",
      "source": [
        "Run the following load command and solve the following questions"
      ],
      "metadata": {
        "id": "3QpaFHkxJUho"
      }
    },
    {
      "cell_type": "code",
      "source": [
        "url = 'https://archive.ics.uci.edu/ml/machine-learning-databases/iris/iris.data'\n",
        "iris = np.genfromtxt(url, delimiter=',', dtype='object')\n",
        "names = ('sepallength', 'sepalwidth', 'petallength', 'petalwidth', 'species')"
      ],
      "metadata": {
        "id": "mLdcY49iJDtl"
      },
      "execution_count": 70,
      "outputs": []
    },
    {
      "cell_type": "markdown",
      "source": [
        "Q4 Write a Pandas function to find the count of unique species."
      ],
      "metadata": {
        "id": "zbDepnx9RtV8"
      }
    },
    {
      "cell_type": "code",
      "source": [
        "import numpy as np\n",
        "url = 'https://archive.ics.uci.edu/ml/machine-learning-databases/iris/iris.data'\n",
        "iris = np.genfromtxt(url, delimiter=',', dtype='object')\n",
        "names = ('sepallength', 'sepalwidth', 'petallength', 'petalwidth', 'species')\n",
        "def count_unique_species(iris_data):\n",
        "    import pandas as pd\n",
        "    df = pd.DataFrame(iris_data, columns=names)\n",
        "    return df['species'].value_counts()\n",
        "print(count_unique_species(iris_data=iris))"
      ],
      "metadata": {
        "id": "oAkO0UnqJDv7",
        "colab": {
          "base_uri": "https://localhost:8080/"
        },
        "outputId": "be5173da-b2cc-47b9-94ad-f3ef809ae2db"
      },
      "execution_count": 73,
      "outputs": [
        {
          "output_type": "stream",
          "name": "stdout",
          "text": [
            "species\n",
            "b'Iris-setosa'        50\n",
            "b'Iris-versicolor'    50\n",
            "b'Iris-virginica'     50\n",
            "Name: count, dtype: int64\n"
          ]
        }
      ]
    },
    {
      "cell_type": "markdown",
      "source": [
        "# Q5 Write a Pandas function to bin the petal length (3rd) column of iris_2d to form a text array, such that if petal length is:\n",
        "- Less than 3 –> ‘small’\n",
        "- 3-5 –> ‘medium’\n",
        "- greater than equal to 5 –> ‘large’"
      ],
      "metadata": {
        "id": "Usj5HlvyRxal"
      }
    },
    {
      "cell_type": "code",
      "source": [
        "import numpy as np\n",
        "import pandas as pd\n",
        "def bin_petal_length(iris_2d):\n",
        "  petal_lengths = iris_2d[:, 2]\n",
        "  bins = pd.cut(petal_lengths, bins=[-np.inf, 3, 5, np.inf], labels=['small', 'medium', 'large'])\n",
        "  return bins\n",
        "\n",
        "binned_petal_lengths = bin_petal_length(iris_2d)\n",
        "binned_petal_lengths"
      ],
      "metadata": {
        "id": "gTWWJoLMJDxx",
        "colab": {
          "base_uri": "https://localhost:8080/"
        },
        "outputId": "428f43cd-0fad-452f-d584-da04c4759dc1"
      },
      "execution_count": 75,
      "outputs": [
        {
          "output_type": "execute_result",
          "data": {
            "text/plain": [
              "['small', 'small', 'small', 'small', 'small', ..., 'large', 'medium', 'large', 'large', 'large']\n",
              "Length: 150\n",
              "Categories (3, object): ['small' < 'medium' < 'large']"
            ]
          },
          "metadata": {},
          "execution_count": 75
        }
      ]
    },
    {
      "cell_type": "markdown",
      "source": [
        "Q6 Write a Pandas function to find the most frequent value of petal length (3rd column) in iris dataset"
      ],
      "metadata": {
        "id": "IbBYP_8sSBrB"
      }
    },
    {
      "cell_type": "code",
      "source": [
        "import numpy as np\n",
        "import pandas as pd\n",
        "\n",
        "def most_frequent_petal_length(iris_data):\n",
        "  df = pd.DataFrame(iris_data, columns=names)\n",
        "  return df['petallength'].value_counts().index[0]\n",
        "\n",
        "most_frequent_value = most_frequent_petal_length(iris)\n",
        "most_frequent_value"
      ],
      "metadata": {
        "id": "DNk_tlVWJufR",
        "colab": {
          "base_uri": "https://localhost:8080/"
        },
        "outputId": "b11c896c-1302-4fe3-f0cd-151fe19aa93c"
      },
      "execution_count": 76,
      "outputs": [
        {
          "output_type": "execute_result",
          "data": {
            "text/plain": [
              "b'1.5'"
            ]
          },
          "metadata": {},
          "execution_count": 76
        }
      ]
    }
  ]
}